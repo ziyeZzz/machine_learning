{
 "cells": [
  {
   "cell_type": "code",
   "execution_count": 28,
   "metadata": {},
   "outputs": [],
   "source": [
    "import numpy as np\n",
    "import torch\n",
    "import torch.nn as nn\n",
    "import torch.nn.functional as F\n",
    "\n",
    "import matplotlib.pyplot as plt\n",
    "\n",
    "torch.manual_seed(223)\n",
    "np.random.seed(223)"
   ]
  },
  {
   "cell_type": "markdown",
   "metadata": {},
   "source": [
    "## Tensors and relation to Numpy"
   ]
  },
  {
   "cell_type": "markdown",
   "metadata": {},
   "source": [
    "pytorch中tensor和numpy几乎一模一样\n",
    "\n",
    "但是numpy不会自动得到gradient，而torch的可以。两者也可以互相转换。"
   ]
  },
  {
   "cell_type": "code",
   "execution_count": 2,
   "metadata": {},
   "outputs": [
    {
     "name": "stdout",
     "output_type": "stream",
     "text": [
      "x_numpy, x_torch\n",
      "[0.1 0.2 0.3] tensor([0.1000, 0.2000, 0.3000])\n"
     ]
    }
   ],
   "source": [
    "x_numpy = np.array([0.1, 0.2, 0.3])\n",
    "x_torch = torch.tensor([0.1, 0.2, 0.3])\n",
    "print('x_numpy, x_torch')\n",
    "print(x_numpy, x_torch)"
   ]
  },
  {
   "cell_type": "markdown",
   "metadata": {},
   "source": [
    "to and from numpy, pytorch"
   ]
  },
  {
   "cell_type": "code",
   "execution_count": 3,
   "metadata": {},
   "outputs": [
    {
     "name": "stdout",
     "output_type": "stream",
     "text": [
      "tensor([0.1000, 0.2000, 0.3000], dtype=torch.float64) [0.1 0.2 0.3]\n"
     ]
    }
   ],
   "source": [
    "print(torch.from_numpy(x_numpy), x_torch.numpy())"
   ]
  },
  {
   "cell_type": "markdown",
   "metadata": {},
   "source": [
    "we can do basic operations like + - * /"
   ]
  },
  {
   "cell_type": "code",
   "execution_count": 5,
   "metadata": {},
   "outputs": [
    {
     "name": "stdout",
     "output_type": "stream",
     "text": [
      "x+y\n",
      "[3.1 4.2 5.3] tensor([3.1000, 4.2000, 5.3000])\n"
     ]
    }
   ],
   "source": [
    "y_numpy = np.array([3,4,5])\n",
    "y_torch = torch.tensor([3,4,5.])\n",
    "print(\"x+y\")\n",
    "print(x_numpy + y_numpy, x_torch+y_torch)"
   ]
  },
  {
   "cell_type": "markdown",
   "metadata": {},
   "source": [
    "most functions in numpy also in pytorch"
   ]
  },
  {
   "cell_type": "code",
   "execution_count": 6,
   "metadata": {},
   "outputs": [
    {
     "name": "stdout",
     "output_type": "stream",
     "text": [
      "norm\n",
      "0.37416573867739417 tensor(0.3742)\n"
     ]
    }
   ],
   "source": [
    "print(\"norm\")\n",
    "print(np.linalg.norm(x_numpy), torch.norm(x_torch))"
   ]
  },
  {
   "cell_type": "markdown",
   "metadata": {},
   "source": [
    "To apply an operation along a dimension, we use the **dim** keyword argument instead of **axis**"
   ]
  },
  {
   "cell_type": "code",
   "execution_count": 7,
   "metadata": {},
   "outputs": [
    {
     "name": "stdout",
     "output_type": "stream",
     "text": [
      "mean along the 0th dimension\n",
      "[2. 3.] tensor([2., 3.])\n"
     ]
    }
   ],
   "source": [
    "print(\"mean along the 0th dimension\")\n",
    "x_numpy = np.array([[1,2],[3,4]])\n",
    "x_torch = torch.tensor([[1,2],[3,4.]])\n",
    "print(np.mean(x_numpy, axis=0), torch.mean(x_torch, dim=0))"
   ]
  },
  {
   "cell_type": "markdown",
   "metadata": {},
   "source": [
    "## Tensor.view"
   ]
  },
  {
   "cell_type": "markdown",
   "metadata": {},
   "source": [
    "Tensor.view() function reshape tensors, similarity to numpy.**reshape()**\n",
    "\n",
    "It can automatically calculate the correct dimension if a -1 is passed in. This is useful if we are working with batches but the batch size is unknown."
   ]
  },
  {
   "cell_type": "code",
   "execution_count": 8,
   "metadata": {},
   "outputs": [
    {
     "name": "stdout",
     "output_type": "stream",
     "text": [
      "torch.Size([10000, 2, 28, 28])\n",
      "torch.Size([10000, 2, 784])\n",
      "torch.Size([10000, 2, 784])\n"
     ]
    }
   ],
   "source": [
    "# \"MNIST\"\n",
    "N, C, W, H = 10000, 2, 28, 28\n",
    "X = torch.randn(N, C, W, H)\n",
    "\n",
    "print(X.shape)\n",
    "print(X.view(N, C, 28*28).shape)\n",
    "print(X.view(-1, C, 28*28).shape) # automatically choose the 0the dimension"
   ]
  },
  {
   "cell_type": "markdown",
   "metadata": {},
   "source": [
    "## Broadcasting semantics\n",
    "\n",
    "Two tensors are \"broadcastable\" if the following rules hold:\n",
    "\n",
    "+ Each tensor has at least one dimension\n",
    "+ When iterating over the dimension sizes, starting the tralling dimensions, the dimension sizes must either be equal, one of them is 1, one of them does not exit "
   ]
  },
  {
   "cell_type": "code",
   "execution_count": 14,
   "metadata": {
    "collapsed": true
   },
   "outputs": [
    {
     "name": "stdout",
     "output_type": "stream",
     "text": [
      "x: tensor([[[[0.],\n",
      "          [0.],\n",
      "          [0.],\n",
      "          [0.]]],\n",
      "\n",
      "\n",
      "        [[[0.],\n",
      "          [0.],\n",
      "          [0.],\n",
      "          [0.]]],\n",
      "\n",
      "\n",
      "        [[[0.],\n",
      "          [0.],\n",
      "          [0.],\n",
      "          [0.]]],\n",
      "\n",
      "\n",
      "        [[[0.],\n",
      "          [0.],\n",
      "          [0.],\n",
      "          [0.]]],\n",
      "\n",
      "\n",
      "        [[[0.],\n",
      "          [0.],\n",
      "          [0.],\n",
      "          [0.]]]]) torch.Size([5, 1, 4, 1])\n",
      "y: tensor([[[-4.6264e-11]],\n",
      "\n",
      "        [[ 1.5449e-41]],\n",
      "\n",
      "        [[-4.6264e-11]]]) torch.Size([3, 1, 1])\n",
      "torch.Size([5, 3, 4, 1])\n"
     ]
    }
   ],
   "source": [
    "# pytorch operations support numpy broadcasting semantics\n",
    "# 两个不相同的向量，想直接加起来\n",
    "x = torch.empty(5, 1, 4, 1)\n",
    "y = torch.empty(3, 1, 1)\n",
    "print(\"x:\",x, x.shape)\n",
    "print(\"y:\",y, y.shape)\n",
    "print((x+y).size())"
   ]
  },
  {
   "cell_type": "markdown",
   "metadata": {},
   "source": [
    "## computation graphs"
   ]
  },
  {
   "cell_type": "markdown",
   "metadata": {},
   "source": [
    "pytorch tensor object implicitly creates a computation graph in the background.\n",
    "\n",
    "A computation graph is a way of writing mathematical expression as a graph.\n",
    "\n",
    "There is an algorithm to compute the gradients of all the variables of a computation graph in time on the same order it is to compute the function itself."
   ]
  },
  {
   "cell_type": "code",
   "execution_count": 29,
   "metadata": {},
   "outputs": [
    {
     "name": "stdout",
     "output_type": "stream",
     "text": [
      "c tensor(3., grad_fn=<AddBackward0>)\n",
      "d tensor(2., grad_fn=<AddBackward0>)\n",
      "e tensor(6., grad_fn=<MulBackward0>)\n"
     ]
    }
   ],
   "source": [
    "# set requires_grad=True to let Pytorch know to keep the graph\n",
    "a = torch.tensor(2.0, requires_grad=True)\n",
    "b = torch.tensor(1.0, requires_grad=True)\n",
    "c = a+b\n",
    "d = b+1\n",
    "e = c*d\n",
    "print('c',c)\n",
    "print(\"d\",d)\n",
    "print('e',e)"
   ]
  },
  {
   "cell_type": "markdown",
   "metadata": {},
   "source": [
    "## CUDA SEMANTICS\n",
    "\n",
    "It is easy to copy tensor between cpu and gpu"
   ]
  },
  {
   "cell_type": "code",
   "execution_count": 30,
   "metadata": {},
   "outputs": [
    {
     "name": "stdout",
     "output_type": "stream",
     "text": [
      "tensor([0.7387, 0.7572, 0.8219, 0.2490, 0.9072, 0.1679, 0.6588, 0.4689, 0.6731,\n",
      "        0.8119])\n"
     ]
    },
    {
     "name": "stderr",
     "output_type": "stream",
     "text": [
      "/home/zhouzy/softwares/Python-3.7.3/install/lib/python3.7/site-packages/torch/cuda/__init__.py:87: UserWarning: \n",
      "    Found GPU1 Quadro K600 which is of cuda capability 3.0.\n",
      "    PyTorch no longer supports this GPU because it is too old.\n",
      "    The minimum cuda capability that we support is 3.5.\n",
      "    \n",
      "  warnings.warn(old_gpu_warn % (d, name, major, capability[1]))\n"
     ]
    },
    {
     "name": "stdout",
     "output_type": "stream",
     "text": [
      "tensor([0.7387, 0.7572, 0.8219, 0.2490, 0.9072, 0.1679, 0.6588, 0.4689, 0.6731,\n",
      "        0.8119], device='cuda:0')\n",
      "tensor([0.7387, 0.7572, 0.8219, 0.2490, 0.9072, 0.1679, 0.6588, 0.4689, 0.6731,\n",
      "        0.8119])\n"
     ]
    }
   ],
   "source": [
    "cpu = torch.device(\"cpu\")\n",
    "gpu = torch.device(\"cuda\")\n",
    "\n",
    "x = torch.rand(10)\n",
    "print(x)\n",
    "x = x.to(gpu)\n",
    "print(x)\n",
    "x = x.to(cpu)\n",
    "print(x)"
   ]
  },
  {
   "cell_type": "markdown",
   "metadata": {},
   "source": [
    "## Auto grad"
   ]
  },
  {
   "cell_type": "markdown",
   "metadata": {},
   "source": [
    "pytorch is an auto grad framework\n",
    "\n",
    "Consider the function $f(x) = (x-2)^2$\n",
    "\n",
    "Q: Compute $\\frac{d}{dx} f(x)$ and then compute $f'(1)$.\n",
    "\n",
    "**backward()** call on the leaf variable(y) in the computation, computes all the gradients of y at once"
   ]
  },
  {
   "cell_type": "code",
   "execution_count": 32,
   "metadata": {},
   "outputs": [
    {
     "name": "stdout",
     "output_type": "stream",
     "text": [
      "Analytical f'(x): tensor([-2.], grad_fn=<MulBackward0>)\n",
      "Pytorch back f'(x): tensor([-2.])\n"
     ]
    }
   ],
   "source": [
    "def f(x):\n",
    "    return (x-2)**2\n",
    "\n",
    "def fp(x):\n",
    "    return 2*(x-2)\n",
    "\n",
    "x = torch.tensor([1.0], requires_grad=True)\n",
    "\n",
    "y = f(x)\n",
    "y.backward()\n",
    "\n",
    "print('Analytical f\\'(x):', fp(x))\n",
    "print('Pytorch back f\\'(x):', x.grad)"
   ]
  },
  {
   "cell_type": "markdown",
   "metadata": {},
   "source": [
    "## Using the gradients"
   ]
  },
  {
   "cell_type": "markdown",
   "metadata": {},
   "source": [
    "Now we have gradients, we can use our favorite optimization algorithm: gradient descent\n",
    "\n",
    "Let $f$ be the same function we defined above\n",
    "\n",
    "Q: Which x minimizes $f$ ?"
   ]
  },
  {
   "cell_type": "code",
   "execution_count": 34,
   "metadata": {},
   "outputs": [
    {
     "name": "stdout",
     "output_type": "stream",
     "text": [
      "iter, \tx, \tf(x), \tf'(x), \tf'(x) pytorch\n",
      "0, \t5.000, \t9.000, \t6.000, \t6.000\n",
      "1, \t3.500, \t2.250, \t3.000, \t3.000\n",
      "2, \t2.750, \t0.562, \t1.500, \t1.500\n",
      "3, \t2.375, \t0.141, \t0.750, \t0.750\n",
      "4, \t2.188, \t0.035, \t0.375, \t0.375\n",
      "5, \t2.094, \t0.009, \t0.188, \t0.188\n",
      "6, \t2.047, \t0.002, \t0.094, \t0.094\n",
      "7, \t2.023, \t0.001, \t0.047, \t0.047\n",
      "8, \t2.012, \t0.000, \t0.023, \t0.023\n",
      "9, \t2.006, \t0.000, \t0.012, \t0.012\n",
      "10, \t2.003, \t0.000, \t0.006, \t0.006\n",
      "11, \t2.001, \t0.000, \t0.003, \t0.003\n",
      "12, \t2.001, \t0.000, \t0.001, \t0.001\n",
      "13, \t2.000, \t0.000, \t0.001, \t0.001\n",
      "14, \t2.000, \t0.000, \t0.000, \t0.000\n"
     ]
    }
   ],
   "source": [
    "x = torch.tensor([5.0], requires_grad=True)\n",
    "step_size = 0.25\n",
    "\n",
    "print('iter, \\tx, \\tf(x), \\tf\\'(x), \\tf\\'(x) pytorch')\n",
    "for i in range(15):\n",
    "    y = f(x)\n",
    "    y.backward() #compute the gradient\n",
    "    \n",
    "    print('{}, \\t{:.3f}, \\t{:.3f}, \\t{:.3f}, \\t{:.3f}'.format(i, x.item(), f(x).item(), fp(x).item(), x.grad.item()))\n",
    "    \n",
    "    # .data返回的是一个tensor\n",
    "    # 而.item()返回的是一个具体的数值\n",
    "    x.data = x.data -step_size*x.grad # perform a GD update step\n",
    "    \n",
    "    # we need to zero the grad variable since the backward() call\n",
    "    # accumulates the gradients in .grad instead of overwriting\n",
    "    # The detach_() is for efficiency.\n",
    "    # detach简单来说，就是截断反向传播的梯度流\n",
    "    x.grad.detach_()\n",
    "    x.grad.zero_()"
   ]
  },
  {
   "cell_type": "markdown",
   "metadata": {},
   "source": [
    "## Linear Regression\n",
    "Lets minimize a loss function on some made-up data\n",
    "\n",
    "We will implement Gradient Descent to solve linear regression"
   ]
  },
  {
   "cell_type": "code",
   "execution_count": 43,
   "metadata": {},
   "outputs": [
    {
     "name": "stdout",
     "output_type": "stream",
     "text": [
      "torch.Size([50, 2]) torch.Size([50, 1]) torch.Size([2, 1])\n"
     ]
    }
   ],
   "source": [
    "# make a simple linear dataset with some noise\n",
    "\n",
    "d = 2\n",
    "n = 50\n",
    "X = torch.randn(n, d)\n",
    "true_w = torch.tensor([[-1.0], [2.0]])\n",
    "\n",
    "#在python 3.5以后，@是一个操作符，表示矩阵-向量乘法\n",
    "#A@x 就是矩阵-向量乘法A*x: np.dot(A, x)\n",
    "y = X@true_w + torch.randn(n, 1)*0.1\n",
    "\n",
    "print(X.shape, y.shape, true_w.shape)"
   ]
  },
  {
   "cell_type": "code",
   "execution_count": 37,
   "metadata": {},
   "outputs": [
    {
     "name": "stdout",
     "output_type": "stream",
     "text": [
      "Analytical gradient: [ 2.2574904 -3.780513 ]\n",
      "Pytorch gradient: [ 2.2574897 -3.7805133]\n"
     ]
    }
   ],
   "source": [
    "# define a linear model with no bias\n",
    "def model(X, w):\n",
    "    return X @ w\n",
    "\n",
    "# the residual sum of squares loss function\n",
    "def rss(y, y_hat):\n",
    "    return torch.norm(y-y_hat)**2/n\n",
    "\n",
    "# analytical expression for the gradient\n",
    "def grad_rss(X, y, w):\n",
    "    return -2*X.t()@(y - X@w)/n\n",
    "\n",
    "w = torch.tensor([[1.], [0]], requires_grad=True)\n",
    "y_hat = model(X, w)\n",
    "\n",
    "loss = rss(y, y_hat)\n",
    "loss.backward()\n",
    "\n",
    "print('Analytical gradient:', grad_rss(X, y, w).detach().view(2).numpy())\n",
    "print('Pytorch gradient:', w.grad.view(2).numpy())"
   ]
  },
  {
   "cell_type": "markdown",
   "metadata": {},
   "source": [
    "### using GD with automatically computes derivatives"
   ]
  },
  {
   "cell_type": "code",
   "execution_count": 44,
   "metadata": {},
   "outputs": [
    {
     "name": "stdout",
     "output_type": "stream",
     "text": [
      "iter, \tloss, \tw\n",
      "0, \t0.01, \t[-1.0010303  2.0016782]\n",
      "1, \t0.01, \t[-1.0010928  1.9975625]\n",
      "2, \t0.01, \t[-1.0012329  1.9943274]\n",
      "3, \t0.01, \t[-1.0014182  1.9917825]\n",
      "4, \t0.01, \t[-1.0016263  1.989779 ]\n",
      "5, \t0.01, \t[-1.0018413  1.9882004]\n",
      "6, \t0.01, \t[-1.0020531  1.9869554]\n",
      "7, \t0.01, \t[-1.0022551  1.9859726]\n",
      "8, \t0.01, \t[-1.0024433  1.9851962]\n",
      "9, \t0.01, \t[-1.0026157  1.9845821]\n",
      "10, \t0.01, \t[-1.0027715  1.9840958]\n",
      "11, \t0.01, \t[-1.0029109  1.9837104]\n",
      "12, \t0.01, \t[-1.0030344  1.9834046]\n",
      "13, \t0.01, \t[-1.0031432  1.9831617]\n",
      "14, \t0.01, \t[-1.0032384  1.9829684]\n",
      "15, \t0.01, \t[-1.0033213  1.9828147]\n",
      "16, \t0.01, \t[-1.0033932  1.982692 ]\n",
      "17, \t0.01, \t[-1.0034553  1.9825941]\n",
      "18, \t0.01, \t[-1.0035088  1.9825158]\n",
      "19, \t0.01, \t[-1.0035547  1.9824532]\n",
      "\n",
      "true w\t\t [-1.  2.]\n",
      "estimated w\t [-1.0035547  1.9824532]\n"
     ]
    }
   ],
   "source": [
    "step_size = 0.1\n",
    "\n",
    "print('iter, \\tloss, \\tw')\n",
    "for i in range(20):\n",
    "    y_hat = model(X, w)\n",
    "    loss = rss(y, y_hat)\n",
    "    \n",
    "    loss.backward() # compute the gradient of the loss\n",
    "    \n",
    "    w.data = w.data - step_size * w.grad # do a gradient descent step\n",
    "    \n",
    "    print('{}, \\t{:.2f}, \\t{}'.format(i, loss.item(), w.view(2).detach().numpy()))\n",
    "    \n",
    "    # we need to zero the grad variable since the backward()\n",
    "    # call accumulates the gradients in .grad instead of overwriting.\n",
    "    w.grad.detach() #for efficiency, 这一句也可以去掉\n",
    "    w.grad.zero_()\n",
    "\n",
    "print('\\ntrue w\\t\\t', true_w.view(2).numpy())\n",
    "print('estimated w\\t', w.view(2).detach().numpy())"
   ]
  },
  {
   "cell_type": "markdown",
   "metadata": {},
   "source": [
    "## torch.nn.Module\n",
    "\n",
    "Module is PyTorch's way of performing operations in tensors. \n",
    "\n",
    "Modules are implemented as subclasses of the torch.nn.Module class. All modules are callable and can be compossed together to create complex functions.\n",
    "\n",
    "torch.nn [docs](https://pytorch.org/docs/stable/nn.html)\n",
    "\n",
    "Note: most of the functionality implemented for modules can be accessed in a functional form via torch.nn.functional. But these require you to create and manage the weight tensors yourself.\n",
    "\n",
    "torch.nn.functional [docs](https://pytorch.org/docs/stable/nn.html#torch-nn-functional)\n",
    "\n",
    "### Linear Module\n",
    "\n",
    "It takes the input and output dimensions as parameters, and creates the weights in the object.\n",
    "\n",
    "Unlike we initialized our $w$ manually, the Linear module **automatically** initializes the weights **randomly**. \n",
    "\n",
    "For minimizing non convex loss function(e.g. neural networks), initialization is important and can affect results. If training is not working as expected, **try to manually initializing the weights** different from the default. Pytorch implements some common initializations in torch.nn.init.\n",
    "\n",
    "torch.nn.init [docs](https://pytorch.org/docs/stable/nn.html#torch-nn-init)"
   ]
  },
  {
   "cell_type": "code",
   "execution_count": 45,
   "metadata": {},
   "outputs": [
    {
     "name": "stdout",
     "output_type": "stream",
     "text": [
      "w: Parameter containing:\n",
      "tensor([[-0.3970,  0.1492, -0.4727],\n",
      "        [ 0.3516,  0.1003, -0.1688],\n",
      "        [ 0.3627,  0.2657, -0.0562],\n",
      "        [ 0.5693, -0.0235,  0.4763]], requires_grad=True) , b: Parameter containing:\n",
      "tensor([ 0.0619, -0.5457,  0.0056, -0.1865], requires_grad=True)\n"
     ]
    }
   ],
   "source": [
    "d_in = 3\n",
    "d_out = 4\n",
    "linear_module = nn.Linear(d_in, d_out)\n",
    "\n",
    "example_tensor = torch.tensor([[1., 2, 3], [4, 5, 6]])\n",
    "# applys a linear transformation to the data\n",
    "transformed = linear_module(example_tensor)\n",
    "\n",
    "print('w:', linear_module.weight, ', b:', linear_module.bias)"
   ]
  },
  {
   "cell_type": "markdown",
   "metadata": {},
   "source": [
    "### Activation functions\n",
    "\n",
    "Pytorch implements a number of activation functions including ReLU, Tanh, Sigmoid.\n",
    "\n",
    "Since they are modules, they need to be instantiated."
   ]
  },
  {
   "cell_type": "code",
   "execution_count": 46,
   "metadata": {},
   "outputs": [
    {
     "name": "stdout",
     "output_type": "stream",
     "text": [
      "example tensor: tensor([-1.,  1.,  0.])\n",
      "activated: tensor([0., 1., 0.])\n"
     ]
    }
   ],
   "source": [
    "activation_fn = nn.ReLU() # we instantiate an instance of the ReLU module\n",
    "example_tensor = torch.tensor([-1.0, 1.0, 0.0])\n",
    "activated = activation_fn(example_tensor)\n",
    "print(\"example tensor:\",example_tensor)\n",
    "print(\"activated:\", activated)"
   ]
  },
  {
   "cell_type": "markdown",
   "metadata": {},
   "source": [
    "### Sequential\n",
    "\n",
    "torch.nn.Sequential provides a good interface for composing simple modules."
   ]
  },
  {
   "cell_type": "code",
   "execution_count": 48,
   "metadata": {},
   "outputs": [
    {
     "name": "stdout",
     "output_type": "stream",
     "text": [
      "transformed: tensor([[0.4031],\n",
      "        [0.5383]], grad_fn=<SigmoidBackward>)\n"
     ]
    }
   ],
   "source": [
    "d_in = 3\n",
    "d_hidden = 4\n",
    "d_out = 1\n",
    "model = torch.nn.Sequential(\n",
    "                nn.Linear(d_in, d_hidden),\n",
    "                nn.Tanh(),\n",
    "                nn.Linear(d_hidden, d_out),\n",
    "                nn.Sigmoid()\n",
    "        )\n",
    "example_tensor = torch.tensor([[1., 2, 3], [4, 5, 6]])\n",
    "transformed = model(example_tensor)\n",
    "print(\"transformed:\", transformed)"
   ]
  },
  {
   "cell_type": "markdown",
   "metadata": {},
   "source": [
    "**Note:** We can access all the parameters(of any nn.Module) with the $parameters()$ method"
   ]
  },
  {
   "cell_type": "code",
   "execution_count": 49,
   "metadata": {},
   "outputs": [
    {
     "name": "stdout",
     "output_type": "stream",
     "text": [
      "Parameter containing:\n",
      "tensor([[ 0.4671,  0.2967, -0.2291],\n",
      "        [ 0.0093,  0.5333,  0.5189],\n",
      "        [-0.2274,  0.2020,  0.4496],\n",
      "        [-0.1831, -0.1396, -0.5206]], requires_grad=True)\n",
      "Parameter containing:\n",
      "tensor([-0.4898, -0.0881, -0.5568,  0.0661], requires_grad=True)\n",
      "Parameter containing:\n",
      "tensor([[ 0.4991, -0.4699,  0.1489, -0.2345]], requires_grad=True)\n",
      "Parameter containing:\n",
      "tensor([-0.2072], requires_grad=True)\n"
     ]
    }
   ],
   "source": [
    "params = model.parameters()\n",
    "\n",
    "for param in params:\n",
    "    print(param)"
   ]
  },
  {
   "cell_type": "markdown",
   "metadata": {},
   "source": [
    "### Loss functions\n",
    "\n",
    "PyTorch implements many common loss functions including $MSE Loss$ and $CrossEntropy Loss$"
   ]
  },
  {
   "cell_type": "code",
   "execution_count": 51,
   "metadata": {},
   "outputs": [
    {
     "name": "stdout",
     "output_type": "stream",
     "text": [
      "tensor(0.6667)\n"
     ]
    }
   ],
   "source": [
    "mse_loss_fn = nn.MSELoss()\n",
    "\n",
    "input = torch.tensor([[0., 0, 0]])\n",
    "target = torch.tensor([[1., 0, -1]])\n",
    "\n",
    "loss = mse_loss_fn(input, target)\n",
    "print(loss)"
   ]
  },
  {
   "cell_type": "markdown",
   "metadata": {},
   "source": [
    "### torch.optim\n",
    "\n",
    "Pytorch implements a number of gradient-based optimization methods in $torch.optim$, including Gradient Descent. It takes in the model parameters and a learning rate at minimum.\n",
    "\n",
    "Optimizers do not compute the gradient for you. you must call **backward()** yourself. You also must call the **optim.zero_grad()** function **before calling backward()** since by default PyTorch does and inplace add the .grad member variable rather than overwriting it.\n",
    "\n",
    "zero_grad() does both the detach() and zero_() calls on tensor's grad variables.\n",
    "\n",
    "torch.optim [docs](https://pytorch.org/docs/stable/optim.html)"
   ]
  },
  {
   "cell_type": "code",
   "execution_count": 53,
   "metadata": {},
   "outputs": [
    {
     "name": "stdout",
     "output_type": "stream",
     "text": [
      "model params before: Parameter containing:\n",
      "tensor([[0.6078]], requires_grad=True)\n",
      "model params after: Parameter containing:\n",
      "tensor([[0.6347]], requires_grad=True)\n"
     ]
    }
   ],
   "source": [
    "# create a simple model\n",
    "model = nn.Linear(1, 1)\n",
    "\n",
    "# create a simple dataset\n",
    "X_simple = torch.tensor([[1.]])\n",
    "y_simple = torch.tensor([[2.]])\n",
    "\n",
    "# create our optimizer\n",
    "optim = torch.optim.SGD(model.parameters(), lr=1e-2)\n",
    "mse_loss_fn = nn.MSELoss()\n",
    "\n",
    "y_hat = model(X_simple)\n",
    "print('model params before:', model.weight)\n",
    "loss = mse_loss_fn(y_hat, y_simple)\n",
    "optim.zero_grad()\n",
    "loss.backward()\n",
    "optim.step()\n",
    "\n",
    "print(\"model params after:\", model.weight)"
   ]
  },
  {
   "cell_type": "markdown",
   "metadata": {},
   "source": [
    "### Linear regression example\n",
    "\n",
    "#### Using GD with automatically computed derivatives and PyTorch's Modules\n",
    "\n",
    "Solve linear regression in a Pytorch way"
   ]
  },
  {
   "cell_type": "code",
   "execution_count": 54,
   "metadata": {},
   "outputs": [
    {
     "name": "stdout",
     "output_type": "stream",
     "text": [
      "iter, \tloss, \tw\n",
      "0,\t6.94,\t[0.23284763 0.45748812]\n",
      "1,\t4.23,\t[-0.01339279  0.8107575 ]\n",
      "2,\t2.58,\t[-0.20953633  1.0830404 ]\n",
      "3,\t1.57,\t[-0.3659706  1.2927663]\n",
      "4,\t0.96,\t[-0.4908944  1.4541929]\n",
      "5,\t0.59,\t[-0.5907848  1.5783463]\n",
      "6,\t0.37,\t[-0.6707639  1.6737511]\n",
      "7,\t0.23,\t[-0.7348866  1.7469952]\n",
      "8,\t0.15,\t[-0.78636616  1.8031676 ]\n",
      "9,\t0.09,\t[-0.82775193  1.846198  ]\n",
      "10,\t0.06,\t[-0.8610687  1.8791192]\n",
      "11,\t0.04,\t[-0.88792664  1.9042706 ]\n",
      "12,\t0.03,\t[-0.9096076  1.923456 ]\n",
      "13,\t0.02,\t[-0.9271335  1.9380647]\n",
      "14,\t0.02,\t[-0.94131994  1.9491668 ]\n",
      "15,\t0.01,\t[-0.95281875  1.9575853 ]\n",
      "16,\t0.01,\t[-0.9621516  1.963953 ]\n",
      "17,\t0.01,\t[-0.9697364  1.968756 ]\n",
      "18,\t0.01,\t[-0.9759086  1.9723668]\n",
      "19,\t0.01,\t[-0.9809376  1.9750714]\n",
      "\n",
      "true w\t\t [-1.  2.]\n",
      "estimated w\t [-0.9809376  1.9750714]\n"
     ]
    }
   ],
   "source": [
    "step_size = 0.1\n",
    "\n",
    "linear_module = nn.Linear(d, 1, bias=False)\n",
    "\n",
    "loss_func = nn.MSELoss()\n",
    "\n",
    "optim = torch.optim.SGD(linear_module.parameters(), lr=step_size)\n",
    "\n",
    "print('iter, \\tloss, \\tw')\n",
    "\n",
    "for i in range(20):\n",
    "    y_hat = linear_module(X)\n",
    "    loss = loss_func(y_hat, y)\n",
    "    optim.zero_grad()\n",
    "    loss.backward()\n",
    "    optim.step()\n",
    "    \n",
    "    print('{},\\t{:.2f},\\t{}'.format(i, loss.item(), linear_module.weight.view(2).detach().numpy()))\n",
    "\n",
    "print('\\ntrue w\\t\\t', true_w.view(2).numpy())\n",
    "print('estimated w\\t', linear_module.weight.view(2).detach().numpy())"
   ]
  },
  {
   "cell_type": "markdown",
   "metadata": {},
   "source": [
    "#### Linear regression with SGD\n",
    "\n",
    "previous examples, we computed the average gradient over the entire dataset(Gradient Descent). We can implement Stochastic Gradient Descent with a simple modification."
   ]
  },
  {
   "cell_type": "code",
   "execution_count": 55,
   "metadata": {
    "scrolled": true
   },
   "outputs": [
    {
     "name": "stdout",
     "output_type": "stream",
     "text": [
      "iter, \tloss, \tw\n",
      "0,\t4.51,\t[-0.53437257  0.02807745]\n",
      "20,\t0.13,\t[-0.8789126  2.0364408]\n",
      "40,\t0.01,\t[-1.0130086  1.9781419]\n",
      "60,\t0.00,\t[-1.0464606  1.9671909]\n",
      "80,\t0.02,\t[-1.0403302  1.9768254]\n",
      "100,\t0.00,\t[-1.0423443  1.9765073]\n",
      "120,\t0.01,\t[-1.0502714  1.9967372]\n",
      "140,\t0.00,\t[-1.0339669  1.9758096]\n",
      "160,\t0.01,\t[-0.9581799  2.0230825]\n",
      "180,\t0.01,\t[-1.0368613  1.953854 ]\n",
      "\n",
      "true w\t\t [-1.  2.]\n",
      "estimated w\t [-0.9779671  1.9938502]\n"
     ]
    }
   ],
   "source": [
    "step_size = 0.1\n",
    "\n",
    "linear_module = nn.Linear(d, 1, bias=False)\n",
    "\n",
    "loss_func = nn.MSELoss()\n",
    "\n",
    "optim = torch.optim.SGD(linear_module.parameters(), lr=step_size)\n",
    "\n",
    "print('iter, \\tloss, \\tw')\n",
    "\n",
    "for i in range(200):\n",
    "    rand_idx = np.random.choice(n) # take a random point from the dataset\n",
    "    x = X[rand_idx]\n",
    "    y_hat = linear_module(x)\n",
    "    loss = loss_func(y_hat, y[rand_idx]) # only compute the loss on the single point\n",
    "    optim.zero_grad()\n",
    "    loss.backward()\n",
    "    optim.step()\n",
    "    \n",
    "    if i % 20 == 0:\n",
    "        print('{},\\t{:.2f},\\t{}'.format(i, loss.item(), linear_module.weight.view(2).detach().numpy()))\n",
    "\n",
    "print('\\ntrue w\\t\\t', true_w.view(2).numpy())\n",
    "print('estimated w\\t', linear_module.weight.view(2).detach().numpy())"
   ]
  },
  {
   "cell_type": "markdown",
   "metadata": {},
   "source": [
    "## Neural Network Basics in PyTorch"
   ]
  },
  {
   "cell_type": "code",
   "execution_count": 58,
   "metadata": {},
   "outputs": [
    {
     "data": {
      "image/png": "[encoded data removed]",
      "text/plain": [
       "<Figure size 432x288 with 1 Axes>"
      ]
     },
     "metadata": {
      "needs_background": "light"
     },
     "output_type": "display_data"
    }
   ],
   "source": [
    "%matplotlib inline\n",
    "\n",
    "d = 1 \n",
    "n = 200\n",
    "X = torch.rand(n, d)\n",
    "y = 4*torch.sin(np.pi * X) * torch.cos( 6 * np.pi * X**2)\n",
    "\n",
    "plt.scatter(X.numpy(), y.numpy())\n",
    "plt.title('plot of $f(x)$')\n",
    "plt.xlabel('$x$')\n",
    "plt.ylabel('$y$')\n",
    "\n",
    "plt.show()"
   ]
  },
  {
   "cell_type": "markdown",
   "metadata": {},
   "source": [
    "Here we define a simple two hidden layer neural network with Tanh activations. \n",
    "\n",
    "There are a few hyper parameter to play with to get a feel of how they change the results."
   ]
  },
  {
   "cell_type": "code",
   "execution_count": 59,
   "metadata": {},
   "outputs": [
    {
     "name": "stdout",
     "output_type": "stream",
     "text": [
      "iter,\tloss\n",
      "0, \t4.12\n",
      "600, \t3.46\n",
      "1200, \t1.46\n",
      "1800, \t0.67\n",
      "2400, \t0.49\n",
      "3000, \t0.18\n",
      "3600, \t0.13\n",
      "4200, \t0.23\n",
      "4800, \t0.10\n",
      "5400, \t0.03\n"
     ]
    }
   ],
   "source": [
    "step_size = 0.1\n",
    "n_epochs = 6000\n",
    "n_hidden_1 = 32\n",
    "n_hidden_2 = 64\n",
    "d_out = 1\n",
    "\n",
    "neural_network = nn.Sequential(\n",
    "                    nn.Linear(d, n_hidden_1),\n",
    "                    nn.Tanh(),\n",
    "                    nn.Linear(n_hidden_1, n_hidden_2),\n",
    "                    nn.Tanh(),\n",
    "                    nn.Linear(n_hidden_2, d_out)\n",
    "                    )\n",
    "\n",
    "loss_func = nn.MSELoss()\n",
    "\n",
    "optim = torch.optim.SGD(neural_network.parameters(), lr=step_size)\n",
    "print('iter,\\tloss')\n",
    "for i in range(n_epochs):\n",
    "    y_hat = neural_network(X)\n",
    "    loss = loss_func(y_hat, y)\n",
    "    optim.zero_grad()\n",
    "    loss.backward()\n",
    "    optim.step()\n",
    "    \n",
    "    if i % (n_epochs // 10) == 0:\n",
    "        print('{}, \\t{:.2f}'.format(i, loss.item()))"
   ]
  },
  {
   "cell_type": "code",
   "execution_count": 60,
   "metadata": {},
   "outputs": [
    {
     "data": {
      "image/png": "[encoded data removed]",
      "text/plain": [
       "<Figure size 432x288 with 1 Axes>"
      ]
     },
     "metadata": {
      "needs_background": "light"
     },
     "output_type": "display_data"
    }
   ],
   "source": [
    "X_grid = torch.from_numpy(np.linspace(0, 1, 50)).float().view(-1, d)\n",
    "y_hat = neural_network(X_grid)\n",
    "plt.scatter(X.numpy(), y.numpy())\n",
    "plt.plot(X_grid.detach().numpy(), y_hat.detach().numpy(), 'r')\n",
    "\n",
    "plt.title('plot of $f(x)$ and $\\hat{f}(x)$')\n",
    "plt.xlabel('$x$')\n",
    "plt.ylabel('$y$')\n",
    "plt.show()"
   ]
  },
  {
   "cell_type": "markdown",
   "metadata": {},
   "source": [
    "## Things helpful for homework\n",
    "\n",
    "### Brief Sidenote: Momentum\n",
    "\n",
    "There are other optimization algorithms besides SGD. One is a modification of SGD called momemtum. [ref](https://distill.pub/2017/momentum/)\n",
    "\n",
    "We change the step size and add the momentum keyword argument to the optimizer. Notice it reduces the training loss in fewer iterations."
   ]
  },
  {
   "cell_type": "code",
   "execution_count": 67,
   "metadata": {},
   "outputs": [
    {
     "name": "stdout",
     "output_type": "stream",
     "text": [
      "iter, \tloss\n",
      "0,\t4.21\n",
      "150,\t1.13\n",
      "300,\t0.25\n",
      "450,\t0.06\n",
      "600,\t0.07\n",
      "750,\t0.02\n",
      "900,\t0.00\n",
      "1050,\t0.01\n",
      "1200,\t0.00\n",
      "1350,\t0.00\n"
     ]
    }
   ],
   "source": [
    "step_size = 0.05\n",
    "momentum = 0.9\n",
    "n_epochs = 1500\n",
    "n_hidden_1 = 64\n",
    "n_hidden_2 = 32\n",
    "d_out = 1\n",
    "\n",
    "neural_network = nn.Sequential(\n",
    "                    nn.Linear(d, n_hidden_1),\n",
    "                    nn.Tanh(),\n",
    "                    nn.Linear(n_hidden_1, n_hidden_2),\n",
    "                    nn.Tanh(),\n",
    "                    nn.Linear(n_hidden_2, d_out)\n",
    "                    )\n",
    "loss_func = nn.MSELoss()\n",
    "\n",
    "optim = torch.optim.SGD(neural_network.parameters(), lr=step_size, momentum = momentum)\n",
    "\n",
    "print('iter, \\tloss')\n",
    "for i in range(n_epochs):\n",
    "    y_hat = neural_network(X)\n",
    "    loss = loss_func(y_hat, y)\n",
    "    optim.zero_grad()\n",
    "    loss.backward()\n",
    "    optim.step()\n",
    "    \n",
    "    if i % (n_epochs // 10) == 0:\n",
    "        print('{},\\t{:.2f}'.format(i, loss.item()))"
   ]
  },
  {
   "cell_type": "markdown",
   "metadata": {},
   "source": [
    "### CrossEntropyLoss\n",
    "\n",
    "So far, we have been considering regression tasks and use MSELoss module. For homework, we will perform a classification task and will use cross entropy loss.\n",
    "\n",
    "The use of cross entropy loss in PyTorch is slightly different than MSE.\n",
    "+ input: The first parameter to CrossEntropyLoss is the output of our network. It expects a real valued tensor of dimensions(N, C) where **N is the minibatch size and C is the number of classes**. In our case, N=3 and C=2. The value along the second dimension correspond to raw unnormalized scores for each class. The crossEntropyLoss module does the softmax calculation for us, we do not need to apply our own softmax to the output.\n",
    "\n",
    "\n",
    "+ output: The second parameter is the true label. It expects an integer valued tensor of dimension (N). The interger at each element corresponds to the correct class. In our case, the \"correct\" class labels are class0, class1, class1."
   ]
  },
  {
   "cell_type": "code",
   "execution_count": 73,
   "metadata": {},
   "outputs": [
    {
     "name": "stdout",
     "output_type": "stream",
     "text": [
      "output1,\toutput2,\toutput3,\toutput4\n",
      "0.13,\t0.00,\t2.13,\t6.00\n"
     ]
    }
   ],
   "source": [
    "loss = nn.CrossEntropyLoss()\n",
    "\n",
    "input1 = torch.tensor([[-1., 1], [-1, 1], [1, -1]])#相当于[1, 1, 0], loss小\n",
    "input2 = torch.tensor([[-3., 3], [-3, 3], [3, -3]])#相当于[1, 1, 0]，loss更小\n",
    "input3 = torch.tensor([[1., -1], [1, -1], [-1, 1]])#[0, 0, 1]，loss大\n",
    "input4 = torch.tensor([[3., -3], [3, -3], [-3, 3]])#[0, 0, 1]，loss更大\n",
    "\n",
    "target = torch.tensor([1, 1, 0])\n",
    "\n",
    "output1 = loss(input1, target)\n",
    "output2 = loss(input2, target)\n",
    "output3 = loss(input3, target)\n",
    "output4 = loss(input4, target)\n",
    "\n",
    "print('output1,\\toutput2,\\toutput3,\\toutput4')\n",
    "print('{:.2f},\\t{:.2f},\\t{:.2f},\\t{:.2f}'.format(output1, output2, output3, output4))"
   ]
  },
  {
   "cell_type": "markdown",
   "metadata": {},
   "source": [
    "### Learning rate scheduler\n",
    "\n",
    "Since we do not want to use a fixed learning rate thoughout all training. PyTorch offers learning rate schedulers to change the learning rate over time. \n",
    "\n",
    "Common strategies include multiplying the lr by a constant every epoch(e.g. 0.9) and halving the learning rate when the training rate flattens out.\n",
    "\n",
    "See the [learning rate scheduler docs](https://pytorch.org/docs/stable/optim.html#how-to-adjust-learning-rate) for usage and examples "
   ]
  },
  {
   "cell_type": "markdown",
   "metadata": {},
   "source": [
    "### Convolutions\n",
    "\n",
    "When working with images, we usually use conv to extract features. PyTorch implements this for us in the $torch.nn.Conv2d$ module. \n",
    "\n",
    "It expects the input to have a specific dimension $(N, C_{in}, H_{in}, W_{in})$ where $N$ is batch size, $C_{in}$ is the number of channels the image has, and $H_{in}, W_{in}$ are the image height and width respectively.\n",
    "\n",
    "We can modify following parameters:\n",
    "\n",
    "+ kernel_size\n",
    "+ stride\n",
    "+ padding\n",
    "\n",
    "They can change the output dimension, so be careful\n",
    "\n",
    "See the [torch.nn.Conv2d docs](https://pytorch.org/docs/stable/nn.html#torch.nn.Conv2d) for more information.\n",
    "\n",
    "To illustrate what $Conv2d$ module is doing, let us set the weights manually to a Gaussian blur kernel.\n",
    "\n",
    "We can see it applies the kernel to the image."
   ]
  },
  {
   "cell_type": "code",
   "execution_count": 75,
   "metadata": {},
   "outputs": [],
   "source": [
    "# an entire mnist digit\n",
    "image = np.array([0., 0., 0., 0., 0.,0., 0., 0., 0., 0.,0., 0., 0., 0., 0.,0., 0., 0., 0., 0.,0., 0., 0., 0., 0.,0., 0., 0., 0., 0.,0., 0., 0., 0., 0.,0., 0., 0., 0., 0.,0., 0., 0., 0., 0.,0., 0., 0., 0., 0.,0., 0., 0., 0., 0.,0., 0., 0., 0., 0.,0., 0., 0., 0., 0.,0., 0., 0., 0., 0.,0., 0., 0., 0., 0.,0., 0., 0., 0., 0.,0., 0., 0., 0., 0.,0., 0., 0., 0., 0.,0., 0., 0., 0., 0.,0., 0., 0., 0., 0.,0., 0., 0., 0., 0.,0., 0., 0., 0., 0.,0., 0., 0., 0., 0.,0., 0., 0., 0., 0.,0., 0., 0., 0., 0.,0., 0., 0., 0., 0.,0., 0., 0., 0., 0.,0., 0., 0., 0., 0.,0., 0., 0., 0., 0.,0., 0., 0., 0., 0.,0., 0., 0., 0., 0.,0., 0., 0., 0., 0.,0., 0., 0., 0., 0.,0., 0., 0., 0., 0.,0., 0., 0., 0., 0.,0., 0., 0., 0., 0.,0., 0., 0., 0., 0.,0., 0., 0., 0., 0.,0., 0., 0., 0., 0.,0., 0., 0., 0., 0.,0., 0., 0., 0., 0.,0., 0., 0.3803922 , 0.37647063, 0.3019608 ,0.46274513, 0.2392157 , 0., 0., 0.,0., 0., 0., 0., 0.,0., 0., 0., 0., 0.,0., 0., 0.3529412 , 0.5411765 , 0.9215687 ,0.9215687 , 0.9215687 , 0.9215687 , 0.9215687 , 0.9215687 ,0.9843138 , 0.9843138 , 0.9725491 , 0.9960785 , 0.9607844 ,0.9215687 , 0.74509805, 0.08235294, 0., 0.,0., 0., 0., 0., 0.,0., 0., 0., 0., 0.54901963,0.9843138 , 0.9960785 , 0.9960785 , 0.9960785 , 0.9960785 ,0.9960785 , 0.9960785 , 0.9960785 , 0.9960785 , 0.9960785 ,0.9960785 , 0.9960785 , 0.9960785 , 0.9960785 , 0.9960785 ,0.7411765 , 0.09019608, 0., 0., 0.,0., 0., 0., 0., 0.,0., 0., 0.8862746 , 0.9960785 , 0.81568635,0.7803922 , 0.7803922 , 0.7803922 , 0.7803922 , 0.54509807,0.2392157 , 0.2392157 , 0.2392157 , 0.2392157 , 0.2392157 ,0.5019608 , 0.8705883 , 0.9960785 , 0.9960785 , 0.7411765 ,0.08235294, 0., 0., 0., 0.,0., 0., 0., 0., 0.,0.14901961, 0.32156864, 0.0509804 , 0., 0.,0., 0., 0., 0., 0.,0., 0., 0., 0., 0.13333334,0.8352942 , 0.9960785 , 0.9960785 , 0.45098042, 0.,0., 0., 0., 0., 0.,0., 0., 0., 0., 0.,0., 0., 0., 0., 0.,0., 0., 0., 0., 0.,0., 0., 0., 0.32941177, 0.9960785 ,0.9960785 , 0.9176471 , 0., 0., 0.,0., 0., 0., 0., 0.,0., 0., 0., 0., 0.,0., 0., 0., 0., 0.,0., 0., 0., 0., 0.,0., 0.32941177, 0.9960785 , 0.9960785 , 0.9176471 ,0., 0., 0., 0., 0.,0., 0., 0., 0., 0.,0., 0., 0., 0., 0.,0., 0., 0., 0., 0.,0., 0., 0., 0.4156863 , 0.6156863 ,0.9960785 , 0.9960785 , 0.95294124, 0.20000002, 0.,0., 0., 0., 0., 0.,0., 0., 0., 0., 0.,0., 0., 0., 0., 0.,0., 0.09803922, 0.45882356, 0.8941177 , 0.8941177 ,0.8941177 , 0.9921569 , 0.9960785 , 0.9960785 , 0.9960785 ,0.9960785 , 0.94117653, 0., 0., 0.,0., 0., 0., 0., 0.,0., 0., 0., 0., 0.,0., 0., 0.26666668, 0.4666667 , 0.86274517,0.9960785 , 0.9960785 , 0.9960785 , 0.9960785 , 0.9960785 ,0.9960785 , 0.9960785 , 0.9960785 , 0.9960785 , 0.5568628 ,0., 0., 0., 0., 0.,0., 0., 0., 0., 0.,0., 0., 0., 0.14509805, 0.73333335,0.9921569 , 0.9960785 , 0.9960785 , 0.9960785 , 0.8745099 ,0.8078432 , 0.8078432 , 0.29411766, 0.26666668, 0.8431373 ,0.9960785 , 0.9960785 , 0.45882356, 0., 0.,0., 0., 0., 0., 0.,0., 0., 0., 0., 0.,0.4431373 , 0.8588236 , 0.9960785 , 0.9490197 , 0.89019614,0.45098042, 0.34901962, 0.12156864, 0., 0.,0., 0., 0.7843138 , 0.9960785 , 0.9450981 ,0.16078432, 0., 0., 0., 0.,0., 0., 0., 0., 0.,0., 0., 0., 0.6627451 , 0.9960785 ,0.6901961 , 0.24313727, 0., 0., 0.,0., 0., 0., 0., 0.18823531,0.9058824 , 0.9960785 , 0.9176471 , 0., 0.,0., 0., 0., 0., 0.,0., 0., 0., 0., 0.,0., 0.07058824, 0.48627454, 0., 0.,0., 0., 0., 0., 0.,0., 0., 0.32941177, 0.9960785 , 0.9960785 ,0.6509804 , 0., 0., 0., 0.,0., 0., 0., 0., 0.,0., 0., 0., 0., 0.,0., 0., 0., 0., 0.,0., 0., 0., 0., 0.,0.54509807, 0.9960785 , 0.9333334 , 0.22352943, 0.,0., 0., 0., 0., 0.,0., 0., 0., 0., 0.,0., 0., 0., 0., 0.,0., 0., 0., 0., 0.,0., 0., 0.8235295 , 0.9803922 , 0.9960785 ,0.65882355, 0., 0., 0., 0.,0., 0., 0., 0., 0.,0., 0., 0., 0., 0.,0., 0., 0., 0., 0.,0., 0., 0., 0., 0.,0.9490197 , 0.9960785 , 0.93725497, 0.22352943, 0.,0., 0., 0., 0., 0.,0., 0., 0., 0., 0.,0., 0., 0., 0., 0.,0., 0., 0., 0., 0.,0., 0., 0.34901962, 0.9843138 , 0.9450981 ,0.3372549 , 0., 0., 0., 0.,0., 0., 0., 0., 0.,0., 0., 0., 0., 0.,0., 0., 0., 0., 0.,0., 0., 0., 0., 0.01960784,0.8078432 , 0.96470594, 0.6156863 , 0., 0.,0., 0., 0., 0., 0.,0., 0., 0., 0., 0.,0., 0., 0., 0., 0.,0., 0., 0., 0., 0.,0., 0., 0.01568628, 0.45882356, 0.27058825,0., 0., 0., 0., 0.,0., 0., 0., 0., 0.,0., 0., 0., 0., 0.,0., 0., 0., 0., 0.,0., 0., 0., 0., 0.,0., 0., 0., 0., 0.,0., 0., 0., 0., 0.,0., 0., 0., 0.], dtype=np.float32)\n",
    "image_torch = torch.from_numpy(image).view(1, 1, 28, 28)"
   ]
  },
  {
   "cell_type": "code",
   "execution_count": 77,
   "metadata": {},
   "outputs": [
    {
     "data": {
      "text/plain": [
       "<matplotlib.image.AxesImage at 0x2b11e9f21cc0>"
      ]
     },
     "execution_count": 77,
     "metadata": {},
     "output_type": "execute_result"
    },
    {
     "data": {
      "image/png": "[encoded data removed]",
      "text/plain": [
       "<Figure size 432x288 with 1 Axes>"
      ]
     },
     "metadata": {
      "needs_background": "light"
     },
     "output_type": "display_data"
    }
   ],
   "source": [
    "plt.imshow(image.reshape(28,28))"
   ]
  },
  {
   "cell_type": "code",
   "execution_count": 79,
   "metadata": {},
   "outputs": [
    {
     "data": {
      "image/png": "[encoded data removed]",
      "text/plain": [
       "<Figure size 432x288 with 1 Axes>"
      ]
     },
     "metadata": {
      "needs_background": "light"
     },
     "output_type": "display_data"
    },
    {
     "data": {
      "image/png": "[encoded data removed]",
      "text/plain": [
       "<Figure size 432x288 with 1 Axes>"
      ]
     },
     "metadata": {
      "needs_background": "light"
     },
     "output_type": "display_data"
    }
   ],
   "source": [
    "# a gaussian blur kernel\n",
    "gaussian_kernel = torch.tensor([[1., 2, 1], [2, 4, 2], [1, 2, 1]]) / 16.0\n",
    "\n",
    "conv = nn.Conv2d(1, 1, 3)\n",
    "# manually set the conv weight\n",
    "conv.weight.data[:] = gaussian_kernel\n",
    "\n",
    "convolved = conv(image_torch)\n",
    "\n",
    "plt.title('org image')\n",
    "plt.imshow(image_torch.view(28, 28).detach().numpy())\n",
    "plt.show()\n",
    "\n",
    "plt.title('blurred image')\n",
    "plt.imshow(convolved.view(26, 26).detach().numpy())\n",
    "plt.show()"
   ]
  },
  {
   "cell_type": "markdown",
   "metadata": {},
   "source": [
    "The image is blurred as expected.\n",
    "\n",
    "In practice, we learn many kernels at a time. In this example, we take in an RGB image(3 channels) and output a 16 channels image. \n",
    "\n",
    "After an activation function, that could be used as input to another Conv2d module."
   ]
  },
  {
   "cell_type": "code",
   "execution_count": 80,
   "metadata": {},
   "outputs": [
    {
     "name": "stdout",
     "output_type": "stream",
     "text": [
      "im shape: torch.Size([4, 3, 32, 32])\n",
      "convolved shape: torch.Size([4, 16, 30, 30])\n"
     ]
    }
   ],
   "source": [
    "im_channels = 3 # RGB images are 3 channels; Black and White, 1 channel\n",
    "out_channels = 16 # hyperparameter we can tune\n",
    "kernel_size = 3 # hyperparameter we can tune\n",
    "batch_size = 4\n",
    "image_width = 32\n",
    "image_height = 32\n",
    "\n",
    "im = torch.randn(batch_size, im_channels, image_width, image_height)\n",
    "\n",
    "conv = nn.Conv2d(im_channels, out_channels, kernel_size)\n",
    "convolved = conv(im) # a module we can call\n",
    "\n",
    "print(\"im shape:\", im.shape)\n",
    "print('convolved shape:', convolved.shape)"
   ]
  },
  {
   "cell_type": "markdown",
   "metadata": {},
   "source": [
    "### Useful links:\n",
    "\n",
    "+ [60 minute PyTorch Tutorial](https://pytorch.org/tutorials/beginner/deep_learning_60min_blitz.html)\n",
    "+ [PyTorch Docs](https://pytorch.org/docs/stable/index.html)\n",
    "+ [Lecture notes on Auto-Diff](https://courses.cs.washington.edu/courses/cse446/19wi/notes/auto-diff.pdf)"
   ]
  },
  {
   "cell_type": "markdown",
   "metadata": {},
   "source": [
    "## Custom Datasets, DataLoaders\n",
    "\n",
    "This is modified from pytorch official tutorial.<https://chsasank.github.io>\n",
    "\n",
    "PyTorch provides many tools to prepare data, make data loading easy and code more readable.\n",
    "\n",
    "In this tutorial, we will see how to load and preprocess/augment data from a non trivial dataset.\n",
    "\n",
    "### Dataset class\n",
    "\n",
    "$torch.utils.data.Dataset$ is an abstract class representing a dataset. Your custom dataset should inherit $Dataset$ and override the follosing methods:\n",
    "\n",
    "+ __len__ so that len(dataset) returns the size of the dataset.\n",
    "+ __getitem__ to support the indexing such that dataset[i] can be used to get $i$ th sample\n",
    "\n",
    "Let us create a dataset class for our face landmarks dataset. We will read the csv in __int__ but leave the reading of images to __getitem__. This is memory efficient because all the images are not stored in the memory at once but read as required.\n",
    "\n",
    "Sample of our dataset will be a dict {'image': image, 'landmarks':landmark}. Our dataset will take an optional argument $transform$ so that any required processing can be applied on the sample.We will see the usefulness of $transform$ in the next section"
   ]
  },
  {
   "cell_type": "code",
   "execution_count": 81,
   "metadata": {},
   "outputs": [],
   "source": [
    "from torch.utils.data import Dataset, DataLoader\n",
    "\n",
    "class FakeDataset(Dataset):\n",
    "    def __init__(self, x, y):\n",
    "        self.x = x\n",
    "        self.y = y\n",
    "    \n",
    "    def __len__(self):\n",
    "        return len(self.x)\n",
    "    \n",
    "    def __getitem__(self, idx):\n",
    "        return self.x[idx], self.y[idx]"
   ]
  },
  {
   "cell_type": "markdown",
   "metadata": {},
   "source": [
    "By using a simple $for$ loop to iterate over the data, we are losing a lot of features. In particular:\n",
    "\n",
    "+ Batching the data\n",
    "+ Shuffling the data\n",
    "+ Load the data in parallel using $multiprocessing$ workers.\n",
    "\n",
    "$torch.utils.data.DataLoader$ is an iterator which provides all these features. Parameters used below should be clear. You can specify how exactly the samples need to be batched using $collate_fn$. However, default collate should work fine for most use cases."
   ]
  },
  {
   "cell_type": "code",
   "execution_count": 82,
   "metadata": {},
   "outputs": [
    {
     "name": "stdout",
     "output_type": "stream",
     "text": [
      "0 [tensor([[0.5731, 0.3522, 0.8924, 0.7387, 0.1603, 0.6738, 0.8475, 0.5324, 0.2867,\n",
      "         0.9676],\n",
      "        [0.6065, 0.7564, 0.6226, 0.1509, 0.7928, 0.6722, 0.2665, 0.0260, 0.8709,\n",
      "         0.4901],\n",
      "        [0.1946, 0.8254, 0.7107, 0.9242, 0.9325, 0.9566, 0.4936, 0.2932, 0.3205,\n",
      "         0.7291],\n",
      "        [0.9846, 0.5993, 0.0100, 0.3986, 0.8331, 0.0473, 0.9524, 0.0777, 0.5083,\n",
      "         0.3032]], dtype=torch.float64), tensor([0.3798, 0.0600, 0.2585, 0.2189], dtype=torch.float64)]\n",
      "1 [tensor([[0.7790, 0.8279, 0.0550, 0.0412, 0.0761, 0.8209, 0.3106, 0.3042, 0.8627,\n",
      "         0.7871],\n",
      "        [0.0785, 0.4358, 0.4960, 0.4975, 0.2461, 0.2620, 0.9665, 0.4101, 0.4390,\n",
      "         0.7586],\n",
      "        [0.8214, 0.3621, 0.4067, 0.4915, 0.5756, 0.0225, 0.3004, 0.0227, 0.6835,\n",
      "         0.3854],\n",
      "        [0.7188, 0.4558, 0.4876, 0.2920, 0.0415, 0.0202, 0.7813, 0.3701, 0.5999,\n",
      "         0.9614]], dtype=torch.float64), tensor([0.1186, 0.6269, 0.0943, 0.3152], dtype=torch.float64)]\n",
      "2 [tensor([[0.4776, 0.9418, 0.3406, 0.6062, 0.8557, 0.0091, 0.2603, 0.3207, 0.1236,\n",
      "         0.5581],\n",
      "        [0.1282, 0.9595, 0.8940, 0.3560, 0.7056, 0.8508, 0.8535, 0.4372, 0.7371,\n",
      "         0.3562],\n",
      "        [0.4791, 0.2160, 0.9924, 0.3058, 0.8337, 0.8880, 0.8871, 0.1436, 0.6167,\n",
      "         0.2302],\n",
      "        [0.5746, 0.2341, 0.7344, 0.9516, 0.8098, 0.2075, 0.6381, 0.5705, 0.9234,\n",
      "         0.0187]], dtype=torch.float64), tensor([0.9722, 0.1938, 0.4050, 0.1436], dtype=torch.float64)]\n",
      "3 [tensor([[0.5819, 0.9633, 0.2687, 0.0756, 0.1296, 0.5981, 0.4670, 0.1660, 0.7261,\n",
      "         0.9806],\n",
      "        [0.6949, 0.5806, 0.4443, 0.6947, 0.8026, 0.2632, 0.5656, 0.5717, 0.5182,\n",
      "         0.8633],\n",
      "        [0.2069, 0.9956, 0.2153, 0.8661, 0.7748, 0.3819, 0.1035, 0.6092, 0.5847,\n",
      "         0.2279],\n",
      "        [0.7958, 0.4718, 0.7230, 0.5673, 0.7555, 0.2388, 0.8735, 0.2222, 0.0375,\n",
      "         0.9220]], dtype=torch.float64), tensor([0.4618, 0.8794, 0.6587, 0.9317], dtype=torch.float64)]\n",
      "4 [tensor([[8.1999e-01, 9.4607e-01, 5.5716e-01, 1.3367e-01, 8.5730e-01, 9.9241e-01,\n",
      "         9.2539e-01, 6.3478e-01, 7.4073e-01, 3.0078e-01],\n",
      "        [7.5595e-01, 2.0748e-01, 6.4929e-01, 8.7415e-01, 7.4497e-01, 9.2496e-01,\n",
      "         5.5069e-01, 2.2143e-01, 9.8611e-01, 6.7910e-02],\n",
      "        [6.1169e-01, 2.3540e-01, 7.4069e-01, 4.8593e-01, 5.4977e-01, 8.8213e-01,\n",
      "         9.1613e-01, 5.2119e-01, 5.5956e-01, 5.4923e-01],\n",
      "        [5.1667e-04, 8.4435e-01, 3.3225e-01, 2.8762e-02, 9.4581e-01, 7.2648e-01,\n",
      "         2.8333e-01, 3.3605e-01, 2.6922e-01, 2.2783e-01]], dtype=torch.float64), tensor([0.2430, 0.1705, 0.4927, 0.6980], dtype=torch.float64)]\n",
      "5 [tensor([[0.4355, 0.4913, 0.7458, 0.7067, 0.2010, 0.0995, 0.4595, 0.0581, 0.4899,\n",
      "         0.9324],\n",
      "        [0.1065, 0.7949, 0.4263, 0.7580, 0.9607, 0.5227, 0.5349, 0.9763, 0.5128,\n",
      "         0.8355],\n",
      "        [0.4090, 0.7944, 0.7259, 0.7599, 0.1013, 0.4855, 0.7503, 0.3782, 0.0036,\n",
      "         0.0236],\n",
      "        [0.0698, 0.3932, 0.3745, 0.7247, 0.2771, 0.0285, 0.2752, 0.9096, 0.1587,\n",
      "         0.3099]], dtype=torch.float64), tensor([0.0594, 0.9745, 0.1807, 0.8092], dtype=torch.float64)]\n",
      "6 [tensor([[0.5143, 0.7813, 0.3657, 0.3446, 0.4107, 0.0594, 0.9986, 0.6698, 0.5079,\n",
      "         0.6787],\n",
      "        [0.3667, 0.6060, 0.6104, 0.7239, 0.3005, 0.4896, 0.3851, 0.6697, 0.1840,\n",
      "         0.7050],\n",
      "        [0.6251, 0.6534, 0.7699, 0.0052, 0.3902, 0.1319, 0.7581, 0.1246, 0.8619,\n",
      "         0.0764],\n",
      "        [0.8679, 0.9947, 0.9261, 0.4871, 0.7949, 0.5663, 0.4499, 0.7330, 0.6093,\n",
      "         0.6378]], dtype=torch.float64), tensor([0.3140, 0.2377, 0.2452, 0.1152], dtype=torch.float64)]\n",
      "7 [tensor([[0.7900, 0.7897, 0.1925, 0.8234, 0.2290, 0.3376, 0.6540, 0.7616, 0.2335,\n",
      "         0.2385],\n",
      "        [0.5711, 0.8307, 0.2810, 0.1290, 0.9470, 0.9564, 0.8077, 0.5323, 0.5188,\n",
      "         0.4702],\n",
      "        [0.8652, 0.6578, 0.4784, 0.5538, 0.8735, 0.9332, 0.5884, 0.6665, 0.1644,\n",
      "         0.1446],\n",
      "        [0.3033, 0.0011, 0.4145, 0.4263, 0.7541, 0.9564, 0.1828, 0.4769, 0.4277,\n",
      "         0.2744]], dtype=torch.float64), tensor([0.4914, 0.3992, 0.9444, 0.9147], dtype=torch.float64)]\n",
      "8 [tensor([[0.1745, 0.2732, 0.5760, 0.9013, 0.8982, 0.0243, 0.9831, 0.1041, 0.8782,\n",
      "         0.6570],\n",
      "        [0.2827, 0.2042, 0.6947, 0.8491, 0.9601, 0.3865, 0.4846, 0.7964, 0.3080,\n",
      "         0.6688],\n",
      "        [0.7616, 0.2483, 0.1599, 0.5594, 0.7716, 0.0644, 0.2717, 0.4100, 0.3545,\n",
      "         0.0580],\n",
      "        [0.0084, 0.3714, 0.5732, 0.8936, 0.0660, 0.0622, 0.4123, 0.3981, 0.1786,\n",
      "         0.1452]], dtype=torch.float64), tensor([0.7544, 0.1739, 0.6046, 0.1710], dtype=torch.float64)]\n",
      "9 [tensor([[0.7719, 0.8116, 0.6556, 0.7419, 0.7317, 0.2478, 0.0722, 0.1898, 0.6427,\n",
      "         0.8502],\n",
      "        [0.0178, 0.8890, 0.5330, 0.1007, 0.1229, 0.6800, 0.2524, 0.9572, 0.0589,\n",
      "         0.7010],\n",
      "        [0.9366, 0.5576, 0.6789, 0.3838, 0.6987, 0.3774, 0.9817, 0.5304, 0.4717,\n",
      "         0.8181],\n",
      "        [0.6829, 0.7412, 0.6690, 0.0556, 0.3994, 0.2422, 0.4519, 0.6155, 0.5241,\n",
      "         0.1712]], dtype=torch.float64), tensor([0.4873, 0.0892, 0.0198, 0.4107], dtype=torch.float64)]\n",
      "10 [tensor([[0.5134, 0.0761, 0.0098, 0.6416, 0.3197, 0.6796, 0.1917, 0.4490, 0.4056,\n",
      "         0.9849],\n",
      "        [0.5045, 0.6041, 0.0491, 0.4489, 0.1539, 0.3086, 0.7788, 0.4410, 0.6982,\n",
      "         0.2020],\n",
      "        [0.2837, 0.5344, 0.8749, 0.5130, 0.6066, 0.5833, 0.5600, 0.2467, 0.3212,\n",
      "         0.5832],\n",
      "        [0.0571, 0.5563, 0.9788, 0.3461, 0.0305, 0.4120, 0.4674, 0.2641, 0.5315,\n",
      "         0.5246]], dtype=torch.float64), tensor([0.6941, 0.2978, 0.3688, 0.6870], dtype=torch.float64)]\n",
      "11 [tensor([[0.9368, 0.3781, 0.1898, 0.1834, 0.3785, 0.0990, 0.1178, 0.2504, 0.3109,\n",
      "         0.3586],\n",
      "        [0.6367, 0.3671, 0.8628, 0.7081, 0.5434, 0.0434, 0.7340, 0.9068, 0.0232,\n",
      "         0.7988],\n",
      "        [0.1926, 0.4436, 0.3273, 0.7181, 0.7908, 0.6022, 0.3342, 0.0906, 0.2368,\n",
      "         0.2496],\n",
      "        [0.2944, 0.5184, 0.4559, 0.0047, 0.9323, 0.4420, 0.7640, 0.6010, 0.5341,\n",
      "         0.5950]], dtype=torch.float64), tensor([0.2982, 0.0284, 0.1100, 0.8063], dtype=torch.float64)]\n",
      "12 [tensor([[0.3546, 0.5512, 0.3533, 0.4910, 0.0021, 0.0281, 0.3072, 0.3737, 0.4022,\n",
      "         0.0214],\n",
      "        [0.7541, 0.2178, 0.9857, 0.6581, 0.8062, 0.4953, 0.1533, 0.6880, 0.2804,\n",
      "         0.6484],\n",
      "        [0.1922, 0.5623, 0.3538, 0.9590, 0.8139, 0.5680, 0.7111, 0.0994, 0.5041,\n",
      "         0.1535],\n",
      "        [0.9090, 0.4082, 0.8595, 0.6328, 0.3985, 0.1027, 0.2872, 0.2958, 0.4326,\n",
      "         0.8404]], dtype=torch.float64), tensor([0.3132, 0.8479, 0.0641, 0.1908], dtype=torch.float64)]\n",
      "13 [tensor([[0.1235, 0.5906, 0.2151, 0.1735, 0.9581, 0.3833, 0.3754, 0.2902, 0.4526,\n",
      "         0.8877],\n",
      "        [0.0746, 0.6009, 0.3356, 0.1052, 0.8998, 0.9239, 0.9592, 0.0888, 0.4581,\n",
      "         0.6264],\n",
      "        [0.7043, 0.1803, 0.9710, 0.2595, 0.4442, 0.5638, 0.7992, 0.7294, 0.1056,\n",
      "         0.0821],\n",
      "        [0.2075, 0.0542, 0.2082, 0.7640, 0.2075, 0.7804, 0.8667, 0.7703, 0.4880,\n",
      "         0.4175]], dtype=torch.float64), tensor([0.8044, 0.5209, 0.1167, 0.1043], dtype=torch.float64)]\n",
      "14 [tensor([[0.7110, 0.0324, 0.6999, 0.3120, 0.3443, 0.1947, 0.1145, 0.1388, 0.3361,\n",
      "         0.2436],\n",
      "        [0.2712, 0.8417, 0.3924, 0.1672, 0.1324, 0.2891, 0.4626, 0.4259, 0.5827,\n",
      "         0.1295],\n",
      "        [0.7321, 0.5713, 0.9735, 0.9981, 0.3251, 0.4321, 0.6025, 0.7267, 0.9462,\n",
      "         0.5622],\n",
      "        [0.3791, 0.2555, 0.3161, 0.3799, 0.5379, 0.3367, 0.0179, 0.1942, 0.8255,\n",
      "         0.2560]], dtype=torch.float64), tensor([0.0944, 0.9346, 0.8076, 0.7030], dtype=torch.float64)]\n",
      "15 [tensor([[0.2112, 0.0674, 0.2896, 0.8931, 0.0379, 0.9509, 0.8315, 0.6334, 0.7816,\n",
      "         0.1188],\n",
      "        [0.0221, 0.3269, 0.6086, 0.2643, 0.9615, 0.9147, 0.8151, 0.4617, 0.8872,\n",
      "         0.7171],\n",
      "        [0.1492, 0.7751, 0.5907, 0.4136, 0.6763, 0.8151, 0.3424, 0.9665, 0.9925,\n",
      "         0.0646],\n",
      "        [0.5238, 0.3191, 0.7562, 0.5360, 0.8993, 0.0396, 0.2865, 0.2601, 0.3873,\n",
      "         0.6201]], dtype=torch.float64), tensor([0.1608, 0.4188, 0.0682, 0.8259], dtype=torch.float64)]\n",
      "16 [tensor([[0.4315, 0.9746, 0.9354, 0.7737, 0.3274, 0.7253, 0.2168, 0.6019, 0.6914,\n",
      "         0.5053],\n",
      "        [0.5331, 0.3018, 0.5681, 0.5742, 0.4409, 0.8460, 0.5683, 0.1129, 0.8864,\n",
      "         0.3009],\n",
      "        [0.3475, 0.2054, 0.3291, 0.6695, 0.8217, 0.9327, 0.9285, 0.7978, 0.1082,\n",
      "         0.9808],\n",
      "        [0.7949, 0.7450, 0.1057, 0.9749, 0.3307, 0.2010, 0.0066, 0.2680, 0.1572,\n",
      "         0.7535]], dtype=torch.float64), tensor([0.2018, 0.7790, 0.2934, 0.4572], dtype=torch.float64)]\n",
      "17 [tensor([[0.1234, 0.2763, 0.6250, 0.5892, 0.1478, 0.2381, 0.7827, 0.4213, 0.8896,\n",
      "         0.3556],\n",
      "        [0.8804, 0.3150, 0.0932, 0.8300, 0.2015, 0.1168, 0.4564, 0.0089, 0.4918,\n",
      "         0.1978],\n",
      "        [0.5509, 0.3448, 0.5404, 0.9125, 0.3244, 0.3438, 0.1229, 0.6017, 0.6842,\n",
      "         0.6517],\n",
      "        [0.6252, 0.8326, 0.7335, 0.5683, 0.4805, 0.0205, 0.8423, 0.8335, 0.0611,\n",
      "         0.5420]], dtype=torch.float64), tensor([0.7734, 0.9829, 0.4052, 0.8478], dtype=torch.float64)]\n",
      "18 [tensor([[0.8319, 0.0190, 0.6834, 0.4361, 0.5816, 0.8063, 0.6133, 0.8275, 0.5506,\n",
      "         0.4941],\n",
      "        [0.9471, 0.6152, 0.7326, 0.3613, 0.0433, 0.4246, 0.7528, 0.9425, 0.9434,\n",
      "         0.0835],\n",
      "        [0.0286, 0.4711, 0.6294, 0.1529, 0.7598, 0.7471, 0.1501, 0.7979, 0.2794,\n",
      "         0.0701],\n",
      "        [0.9865, 0.6917, 0.4031, 0.6475, 0.4017, 0.7013, 0.3768, 0.5441, 0.6133,\n",
      "         0.9827]], dtype=torch.float64), tensor([0.2432, 0.4096, 0.4214, 0.3625], dtype=torch.float64)]\n",
      "19 [tensor([[0.1595, 0.1620, 0.6766, 0.7347, 0.6800, 0.1595, 0.6351, 0.9497, 0.2426,\n",
      "         0.6980],\n",
      "        [0.8173, 0.7557, 0.0332, 0.8683, 0.8946, 0.8717, 0.1310, 0.7948, 0.3232,\n",
      "         0.3358],\n",
      "        [0.7858, 0.6377, 0.2486, 0.6115, 0.0269, 0.4160, 0.4587, 0.8693, 0.7665,\n",
      "         0.7337],\n",
      "        [0.2460, 0.2389, 0.0526, 0.4953, 0.1022, 0.3491, 0.8909, 0.7873, 0.9476,\n",
      "         0.1190]], dtype=torch.float64), tensor([0.7695, 0.1763, 0.3614, 0.8793], dtype=torch.float64)]\n",
      "20 [tensor([[0.9447, 0.4553, 0.3090, 0.9314, 0.5810, 0.7478, 0.1801, 0.7944, 0.3395,\n",
      "         0.7796],\n",
      "        [0.3616, 0.6536, 0.3887, 0.5575, 0.5016, 0.3341, 0.3248, 0.3028, 0.0241,\n",
      "         0.2205],\n",
      "        [0.1569, 0.6746, 0.1610, 0.6416, 0.5379, 0.0899, 0.8109, 0.1574, 0.6636,\n",
      "         0.1208],\n",
      "        [0.6763, 0.3114, 0.1191, 0.5024, 0.8485, 0.5508, 0.9937, 0.4441, 0.6268,\n",
      "         0.0124]], dtype=torch.float64), tensor([0.8330, 0.4588, 0.6610, 0.4125], dtype=torch.float64)]\n",
      "21 [tensor([[0.1652, 0.8297, 0.7624, 0.2486, 0.0530, 0.2290, 0.2390, 0.8085, 0.9943,\n",
      "         0.7612],\n",
      "        [0.3446, 0.4889, 0.6931, 0.5729, 0.6845, 0.1469, 0.3541, 0.1273, 0.8349,\n",
      "         0.5690],\n",
      "        [0.2602, 0.4863, 0.4534, 0.2980, 0.7037, 0.4775, 0.0909, 0.8940, 0.3209,\n",
      "         0.5321],\n",
      "        [0.0541, 0.3995, 0.1713, 0.3571, 0.8195, 0.9805, 0.3720, 0.2270, 0.1000,\n",
      "         0.0734]], dtype=torch.float64), tensor([0.2157, 0.5211, 0.3512, 0.4156], dtype=torch.float64)]\n",
      "22 [tensor([[0.7748, 0.7320, 0.4631, 0.7669, 0.0317, 0.5785, 0.9670, 0.9411, 0.5266,\n",
      "         0.7897],\n",
      "        [0.6226, 0.6133, 0.9546, 0.8534, 0.2655, 0.5631, 0.2538, 0.1017, 0.7896,\n",
      "         0.7864],\n",
      "        [0.1106, 0.0427, 0.2253, 0.5984, 0.1476, 0.9428, 0.8574, 0.4992, 0.1863,\n",
      "         0.0076],\n",
      "        [0.6480, 0.0496, 0.1820, 0.0035, 0.7532, 0.9226, 0.3586, 0.1746, 0.0929,\n",
      "         0.3100]], dtype=torch.float64), tensor([0.0130, 0.5404, 0.7583, 0.5099], dtype=torch.float64)]\n",
      "23 [tensor([[0.0109, 0.2624, 0.4719, 0.2345, 0.1493, 0.9487, 0.3868, 0.3880, 0.1207,\n",
      "         0.9011],\n",
      "        [0.1786, 0.5431, 0.3357, 0.3656, 0.4052, 0.6589, 0.4147, 0.4342, 0.2196,\n",
      "         0.7168],\n",
      "        [0.5714, 0.6594, 0.8891, 0.5636, 0.0517, 0.0158, 0.0049, 0.4637, 0.5697,\n",
      "         0.5704],\n",
      "        [0.9934, 0.8142, 0.1091, 0.9558, 0.1230, 0.5885, 0.5156, 0.7678, 0.0012,\n",
      "         0.7585]], dtype=torch.float64), tensor([0.6778, 0.3753, 0.7416, 0.8120], dtype=torch.float64)]\n",
      "24 [tensor([[0.7126, 0.9482, 0.9998, 0.1869, 0.3878, 0.2132, 0.4729, 0.6440, 0.3182,\n",
      "         0.0168],\n",
      "        [0.8769, 0.7974, 0.4326, 0.5523, 0.1364, 0.5399, 0.4554, 0.7108, 0.6783,\n",
      "         0.5927],\n",
      "        [0.0172, 0.6426, 0.7915, 0.4452, 0.3237, 0.4100, 0.0157, 0.6517, 0.4677,\n",
      "         0.5877],\n",
      "        [0.1266, 0.3726, 0.4995, 0.6687, 0.8362, 0.6325, 0.9198, 0.6323, 0.2639,\n",
      "         0.0386]], dtype=torch.float64), tensor([0.9395, 0.6705, 0.6860, 0.7468], dtype=torch.float64)]\n"
     ]
    }
   ],
   "source": [
    "x = np.random.rand(100, 10)\n",
    "y = np.random.rand(100)\n",
    "\n",
    "dataset = FakeDataset(x, y)\n",
    "dataloader = DataLoader(dataset, batch_size=4, shuffle=True, num_workers=4)\n",
    "\n",
    "for i_batch, sample_batched in enumerate(dataloader):\n",
    "    print(i_batch, sample_batched)"
   ]
  },
  {
   "cell_type": "markdown",
   "metadata": {},
   "source": [
    "## Mixed Precision Training\n",
    "\n",
    "Author: Chi-Liang Liu <https://liangtaiwan.github.io> Ref: https://github.com/NVIDIA/apex Using mixed precision to train your networks can be:\n",
    "\n",
    "+ 2-4x faster\n",
    "+ memory-efficient in only 3 lines of Python"
   ]
  },
  {
   "cell_type": "markdown",
   "metadata": {},
   "source": [
    "### Apex\n",
    "\n",
    "NVIDIA-maintained utilities to steamline mixed precision and distributed training in PyTorch. Some of the code here will be included in upstream PyTorch eventually. The intention of Apex is to make up-to-date utilities available to users as quickly as possible.\n",
    "\n",
    "#### Apex.amp\n",
    "\n",
    "Amp allows users to easily experiment with different pure and mixed precision modes. Commonly-used default modes are chosen by selecting an \"optimization level\" or **opt_level**; each **opt_level** establishes a set of properties that govern Amp's implementation of pure or mixed precision training. Finer-grained control of how a given **opt_level** behaves can be achieved by passing values for particular properties directly to *amp.initialize*. These manually specified values override the defaults established by the **opt_level**."
   ]
  },
  {
   "cell_type": "code",
   "execution_count": null,
   "metadata": {},
   "outputs": [],
   "source": [
    "fromfrom  apexapex  importimport  ampamp\n",
    "\n",
    "  # Declare model and optimizer as usual, with default (FP32) precision# Decla \n",
    "model = torch.nn.Linear(10, 100).cuda()\n",
    "optimizer = torch.optim.SGD(model.parameters(), lr=1e-3)\n",
    "\n",
    "# Allow Amp to perform casts as required by the opt_level\n",
    "model, optimizer = amp.initialize(model, optimizer, opt_level=\"O1\")\n",
    "...\n",
    "# loss.backward() becomes:\n",
    "with amp.scale_loss(loss, optimizer) as scaled_loss:\n",
    "    scaled_loss.backward()\n",
    "..."
   ]
  }
 ],
 "metadata": {
  "kernelspec": {
   "display_name": "Python 3",
   "language": "python",
   "name": "python3"
  },
  "language_info": {
   "codemirror_mode": {
    "name": "ipython",
    "version": 3
   },
   "file_extension": ".py",
   "mimetype": "text/x-python",
   "name": "python",
   "nbconvert_exporter": "python",
   "pygments_lexer": "ipython3",
   "version": "3.7.0"
  }
 },
 "nbformat": 4,
 "nbformat_minor": 2
}
